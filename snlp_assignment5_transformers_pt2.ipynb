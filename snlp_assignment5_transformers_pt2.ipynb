{
 "cells": [
  {
   "cell_type": "code",
   "execution_count": 1,
   "id": "ec15b0c0",
   "metadata": {
    "_cell_guid": "b1076dfc-b9ad-4769-8c92-a6c4dae69d19",
    "_uuid": "8f2839f25d086af736a60e9eeb907d3b93b6e0e5",
    "execution": {
     "iopub.execute_input": "2024-09-12T12:14:17.659181Z",
     "iopub.status.busy": "2024-09-12T12:14:17.658875Z",
     "iopub.status.idle": "2024-09-12T12:14:18.390146Z",
     "shell.execute_reply": "2024-09-12T12:14:18.389211Z"
    },
    "papermill": {
     "duration": 0.740474,
     "end_time": "2024-09-12T12:14:18.392511",
     "exception": false,
     "start_time": "2024-09-12T12:14:17.652037",
     "status": "completed"
    },
    "tags": []
   },
   "outputs": [],
   "source": [
    "import numpy as np\n",
    "import pandas as pd"
   ]
  },
  {
   "cell_type": "code",
   "execution_count": 2,
   "id": "26be5158",
   "metadata": {
    "execution": {
     "iopub.execute_input": "2024-09-12T12:14:18.404941Z",
     "iopub.status.busy": "2024-09-12T12:14:18.404531Z",
     "iopub.status.idle": "2024-09-12T12:14:23.609864Z",
     "shell.execute_reply": "2024-09-12T12:14:23.608897Z"
    },
    "papermill": {
     "duration": 5.213837,
     "end_time": "2024-09-12T12:14:23.612199",
     "exception": false,
     "start_time": "2024-09-12T12:14:18.398362",
     "status": "completed"
    },
    "tags": []
   },
   "outputs": [],
   "source": [
    "from sklearn import model_selection, metrics\n",
    "import transformers\n",
    "import torch"
   ]
  },
  {
   "cell_type": "code",
   "execution_count": 3,
   "id": "ff243aea",
   "metadata": {
    "execution": {
     "iopub.execute_input": "2024-09-12T12:14:23.624761Z",
     "iopub.status.busy": "2024-09-12T12:14:23.624278Z",
     "iopub.status.idle": "2024-09-12T12:14:23.628410Z",
     "shell.execute_reply": "2024-09-12T12:14:23.627580Z"
    },
    "papermill": {
     "duration": 0.012378,
     "end_time": "2024-09-12T12:14:23.630348",
     "exception": false,
     "start_time": "2024-09-12T12:14:23.617970",
     "status": "completed"
    },
    "tags": []
   },
   "outputs": [],
   "source": [
    "import warnings \n",
    "warnings.filterwarnings('ignore')"
   ]
  },
  {
   "cell_type": "code",
   "execution_count": 4,
   "id": "7c2ff347",
   "metadata": {
    "execution": {
     "iopub.execute_input": "2024-09-12T12:14:23.641548Z",
     "iopub.status.busy": "2024-09-12T12:14:23.641253Z",
     "iopub.status.idle": "2024-09-12T12:14:23.647254Z",
     "shell.execute_reply": "2024-09-12T12:14:23.646382Z"
    },
    "papermill": {
     "duration": 0.013793,
     "end_time": "2024-09-12T12:14:23.649211",
     "exception": false,
     "start_time": "2024-09-12T12:14:23.635418",
     "status": "completed"
    },
    "tags": []
   },
   "outputs": [],
   "source": [
    "class TextDataset:\n",
    "    \n",
    "    def __init__(self, data):\n",
    "        self.data = data\n",
    "        \n",
    "    def __len__(self):\n",
    "        return self.data.shape[0]\n",
    "    \n",
    "    def __getitem__(self, idx):\n",
    "        row = self.data.iloc[idx]\n",
    "        \n",
    "        enc = tokenizer(\n",
    "            row[\"text\"],\n",
    "            max_length=10,\n",
    "            truncation=True,\n",
    "            padding=\"max_length\"\n",
    "        )\n",
    "        \n",
    "        return {\n",
    "            \"input_ids\": torch.tensor(enc[\"input_ids\"]),\n",
    "            \"attention_mask\": torch.tensor(enc[\"attention_mask\"]),\n",
    "            # \"label\": torch.tensor(row[\"label\"]),\n",
    "        }"
   ]
  },
  {
   "cell_type": "code",
   "execution_count": 5,
   "id": "388f0ba5",
   "metadata": {
    "execution": {
     "iopub.execute_input": "2024-09-12T12:14:23.660491Z",
     "iopub.status.busy": "2024-09-12T12:14:23.660227Z",
     "iopub.status.idle": "2024-09-12T12:14:25.084442Z",
     "shell.execute_reply": "2024-09-12T12:14:25.083446Z"
    },
    "papermill": {
     "duration": 1.432337,
     "end_time": "2024-09-12T12:14:25.086721",
     "exception": false,
     "start_time": "2024-09-12T12:14:23.654384",
     "status": "completed"
    },
    "tags": []
   },
   "outputs": [
    {
     "name": "stdout",
     "output_type": "stream",
     "text": [
      "(50000, 3)\n"
     ]
    },
    {
     "data": {
      "text/html": [
       "<div>\n",
       "<style scoped>\n",
       "    .dataframe tbody tr th:only-of-type {\n",
       "        vertical-align: middle;\n",
       "    }\n",
       "\n",
       "    .dataframe tbody tr th {\n",
       "        vertical-align: top;\n",
       "    }\n",
       "\n",
       "    .dataframe thead th {\n",
       "        text-align: right;\n",
       "    }\n",
       "</style>\n",
       "<table border=\"1\" class=\"dataframe\">\n",
       "  <thead>\n",
       "    <tr style=\"text-align: right;\">\n",
       "      <th></th>\n",
       "      <th>text</th>\n",
       "      <th>sentiment</th>\n",
       "      <th>label</th>\n",
       "    </tr>\n",
       "  </thead>\n",
       "  <tbody>\n",
       "    <tr>\n",
       "      <th>0</th>\n",
       "      <td>One of the other reviewers has mentioned that ...</td>\n",
       "      <td>positive</td>\n",
       "      <td>1</td>\n",
       "    </tr>\n",
       "    <tr>\n",
       "      <th>1</th>\n",
       "      <td>A wonderful little production. &lt;br /&gt;&lt;br /&gt;The...</td>\n",
       "      <td>positive</td>\n",
       "      <td>1</td>\n",
       "    </tr>\n",
       "    <tr>\n",
       "      <th>2</th>\n",
       "      <td>I thought this was a wonderful way to spend ti...</td>\n",
       "      <td>positive</td>\n",
       "      <td>1</td>\n",
       "    </tr>\n",
       "    <tr>\n",
       "      <th>3</th>\n",
       "      <td>Basically there's a family where a little boy ...</td>\n",
       "      <td>negative</td>\n",
       "      <td>0</td>\n",
       "    </tr>\n",
       "    <tr>\n",
       "      <th>4</th>\n",
       "      <td>Petter Mattei's \"Love in the Time of Money\" is...</td>\n",
       "      <td>positive</td>\n",
       "      <td>1</td>\n",
       "    </tr>\n",
       "  </tbody>\n",
       "</table>\n",
       "</div>"
      ],
      "text/plain": [
       "                                                text sentiment  label\n",
       "0  One of the other reviewers has mentioned that ...  positive      1\n",
       "1  A wonderful little production. <br /><br />The...  positive      1\n",
       "2  I thought this was a wonderful way to spend ti...  positive      1\n",
       "3  Basically there's a family where a little boy ...  negative      0\n",
       "4  Petter Mattei's \"Love in the Time of Money\" is...  positive      1"
      ]
     },
     "execution_count": 5,
     "metadata": {},
     "output_type": "execute_result"
    }
   ],
   "source": [
    "df = pd.read_csv(\"/kaggle/input/imdb-dataset-of-50k-movie-reviews/IMDB Dataset.csv\").rename(columns={\"review\": \"text\"})\n",
    "\n",
    "id2label = {0: \"negative\", 1: \"positive\"}\n",
    "label2id = {label: id_ for id_, label in id2label.items()}\n",
    "\n",
    "df[\"label\"] = df[\"sentiment\"].map(label2id)\n",
    "\n",
    "print(df.shape)\n",
    "df.head()"
   ]
  },
  {
   "cell_type": "code",
   "execution_count": 6,
   "id": "b147659f",
   "metadata": {
    "execution": {
     "iopub.execute_input": "2024-09-12T12:14:25.099801Z",
     "iopub.status.busy": "2024-09-12T12:14:25.099448Z",
     "iopub.status.idle": "2024-09-12T12:14:25.103620Z",
     "shell.execute_reply": "2024-09-12T12:14:25.102697Z"
    },
    "papermill": {
     "duration": 0.012922,
     "end_time": "2024-09-12T12:14:25.105652",
     "exception": false,
     "start_time": "2024-09-12T12:14:25.092730",
     "status": "completed"
    },
    "tags": []
   },
   "outputs": [],
   "source": [
    "model_path = \"/kaggle/input/imdb-review-classification-using-transformers/my-model/\""
   ]
  },
  {
   "cell_type": "code",
   "execution_count": 7,
   "id": "7a9372bf",
   "metadata": {
    "execution": {
     "iopub.execute_input": "2024-09-12T12:14:25.117934Z",
     "iopub.status.busy": "2024-09-12T12:14:25.117620Z",
     "iopub.status.idle": "2024-09-12T12:14:27.222844Z",
     "shell.execute_reply": "2024-09-12T12:14:27.222057Z"
    },
    "papermill": {
     "duration": 2.114008,
     "end_time": "2024-09-12T12:14:27.225229",
     "exception": false,
     "start_time": "2024-09-12T12:14:25.111221",
     "status": "completed"
    },
    "tags": []
   },
   "outputs": [],
   "source": [
    "tokenizer = transformers.AutoTokenizer.from_pretrained(model_path)\n",
    "\n",
    "model = transformers.AutoModelForSequenceClassification.from_pretrained(model_path)"
   ]
  },
  {
   "cell_type": "code",
   "execution_count": 8,
   "id": "35cf8d31",
   "metadata": {
    "execution": {
     "iopub.execute_input": "2024-09-12T12:14:27.237932Z",
     "iopub.status.busy": "2024-09-12T12:14:27.237407Z",
     "iopub.status.idle": "2024-09-12T12:14:27.241911Z",
     "shell.execute_reply": "2024-09-12T12:14:27.241037Z"
    },
    "papermill": {
     "duration": 0.012935,
     "end_time": "2024-09-12T12:14:27.243867",
     "exception": false,
     "start_time": "2024-09-12T12:14:27.230932",
     "status": "completed"
    },
    "tags": []
   },
   "outputs": [],
   "source": [
    "ds = TextDataset(df)"
   ]
  },
  {
   "cell_type": "code",
   "execution_count": 9,
   "id": "61e81e10",
   "metadata": {
    "execution": {
     "iopub.execute_input": "2024-09-12T12:14:27.256186Z",
     "iopub.status.busy": "2024-09-12T12:14:27.255521Z",
     "iopub.status.idle": "2024-09-12T12:14:27.271370Z",
     "shell.execute_reply": "2024-09-12T12:14:27.270461Z"
    },
    "papermill": {
     "duration": 0.024004,
     "end_time": "2024-09-12T12:14:27.273223",
     "exception": false,
     "start_time": "2024-09-12T12:14:27.249219",
     "status": "completed"
    },
    "tags": []
   },
   "outputs": [
    {
     "data": {
      "text/plain": [
       "[{'input_ids': tensor([  101,  2028,  1997,  1996,  2060, 15814,  2038,  3855,  2008,   102]),\n",
       "  'attention_mask': tensor([1, 1, 1, 1, 1, 1, 1, 1, 1, 1])},\n",
       " {'input_ids': tensor([ 101, 1037, 6919, 2210, 2537, 1012, 1026, 7987, 1013,  102]),\n",
       "  'attention_mask': tensor([1, 1, 1, 1, 1, 1, 1, 1, 1, 1])}]"
      ]
     },
     "execution_count": 9,
     "metadata": {},
     "output_type": "execute_result"
    }
   ],
   "source": [
    "[ds[0], ds[1]]"
   ]
  },
  {
   "cell_type": "code",
   "execution_count": 10,
   "id": "790b1e6e",
   "metadata": {
    "execution": {
     "iopub.execute_input": "2024-09-12T12:14:27.285359Z",
     "iopub.status.busy": "2024-09-12T12:14:27.285093Z",
     "iopub.status.idle": "2024-09-12T12:14:27.289452Z",
     "shell.execute_reply": "2024-09-12T12:14:27.288624Z"
    },
    "papermill": {
     "duration": 0.012528,
     "end_time": "2024-09-12T12:14:27.291251",
     "exception": false,
     "start_time": "2024-09-12T12:14:27.278723",
     "status": "completed"
    },
    "tags": []
   },
   "outputs": [],
   "source": [
    "dl = torch.utils.data.DataLoader(\n",
    "    ds,\n",
    "    batch_size=2,\n",
    "    shuffle=False,\n",
    "    num_workers=2,\n",
    ")"
   ]
  },
  {
   "cell_type": "code",
   "execution_count": 11,
   "id": "97b7ad8a",
   "metadata": {
    "execution": {
     "iopub.execute_input": "2024-09-12T12:14:27.303323Z",
     "iopub.status.busy": "2024-09-12T12:14:27.303061Z",
     "iopub.status.idle": "2024-09-12T12:14:28.147421Z",
     "shell.execute_reply": "2024-09-12T12:14:28.146452Z"
    },
    "papermill": {
     "duration": 0.852681,
     "end_time": "2024-09-12T12:14:28.149442",
     "exception": false,
     "start_time": "2024-09-12T12:14:27.296761",
     "status": "completed"
    },
    "tags": []
   },
   "outputs": [
    {
     "data": {
      "text/plain": [
       "BertForSequenceClassification(\n",
       "  (bert): BertModel(\n",
       "    (embeddings): BertEmbeddings(\n",
       "      (word_embeddings): Embedding(30522, 256, padding_idx=0)\n",
       "      (position_embeddings): Embedding(512, 256)\n",
       "      (token_type_embeddings): Embedding(2, 256)\n",
       "      (LayerNorm): LayerNorm((256,), eps=1e-12, elementwise_affine=True)\n",
       "      (dropout): Dropout(p=0.1, inplace=False)\n",
       "    )\n",
       "    (encoder): BertEncoder(\n",
       "      (layer): ModuleList(\n",
       "        (0-5): 6 x BertLayer(\n",
       "          (attention): BertAttention(\n",
       "            (self): BertSdpaSelfAttention(\n",
       "              (query): Linear(in_features=256, out_features=256, bias=True)\n",
       "              (key): Linear(in_features=256, out_features=256, bias=True)\n",
       "              (value): Linear(in_features=256, out_features=256, bias=True)\n",
       "              (dropout): Dropout(p=0.1, inplace=False)\n",
       "            )\n",
       "            (output): BertSelfOutput(\n",
       "              (dense): Linear(in_features=256, out_features=256, bias=True)\n",
       "              (LayerNorm): LayerNorm((256,), eps=1e-12, elementwise_affine=True)\n",
       "              (dropout): Dropout(p=0.1, inplace=False)\n",
       "            )\n",
       "          )\n",
       "          (intermediate): BertIntermediate(\n",
       "            (dense): Linear(in_features=256, out_features=1024, bias=True)\n",
       "            (intermediate_act_fn): GELUActivation()\n",
       "          )\n",
       "          (output): BertOutput(\n",
       "            (dense): Linear(in_features=1024, out_features=256, bias=True)\n",
       "            (LayerNorm): LayerNorm((256,), eps=1e-12, elementwise_affine=True)\n",
       "            (dropout): Dropout(p=0.1, inplace=False)\n",
       "          )\n",
       "        )\n",
       "      )\n",
       "    )\n",
       "    (pooler): BertPooler(\n",
       "      (dense): Linear(in_features=256, out_features=256, bias=True)\n",
       "      (activation): Tanh()\n",
       "    )\n",
       "  )\n",
       "  (dropout): Dropout(p=0.1, inplace=False)\n",
       "  (classifier): Linear(in_features=256, out_features=2, bias=True)\n",
       ")"
      ]
     },
     "execution_count": 11,
     "metadata": {},
     "output_type": "execute_result"
    }
   ],
   "source": [
    "model.to(\"cuda\")"
   ]
  },
  {
   "cell_type": "code",
   "execution_count": 12,
   "id": "a79231c4",
   "metadata": {
    "execution": {
     "iopub.execute_input": "2024-09-12T12:14:28.162506Z",
     "iopub.status.busy": "2024-09-12T12:14:28.162189Z",
     "iopub.status.idle": "2024-09-12T12:14:29.136367Z",
     "shell.execute_reply": "2024-09-12T12:14:29.135266Z"
    },
    "papermill": {
     "duration": 0.983238,
     "end_time": "2024-09-12T12:14:29.138701",
     "exception": false,
     "start_time": "2024-09-12T12:14:28.155463",
     "status": "completed"
    },
    "tags": []
   },
   "outputs": [
    {
     "name": "stderr",
     "output_type": "stream",
     "text": [
      "huggingface/tokenizers: The current process just got forked, after parallelism has already been used. Disabling parallelism to avoid deadlocks...\n",
      "To disable this warning, you can either:\n",
      "\t- Avoid using `tokenizers` before the fork if possible\n",
      "\t- Explicitly set the environment variable TOKENIZERS_PARALLELISM=(true | false)\n",
      "huggingface/tokenizers: The current process just got forked, after parallelism has already been used. Disabling parallelism to avoid deadlocks...\n",
      "To disable this warning, you can either:\n",
      "\t- Avoid using `tokenizers` before the fork if possible\n",
      "\t- Explicitly set the environment variable TOKENIZERS_PARALLELISM=(true | false)\n"
     ]
    },
    {
     "name": "stdout",
     "output_type": "stream",
     "text": [
      "{'input_ids': tensor([[  101,  2028,  1997,  1996,  2060, 15814,  2038,  3855,  2008,   102],\n",
      "        [  101,  1037,  6919,  2210,  2537,  1012,  1026,  7987,  1013,   102]]), 'attention_mask': tensor([[1, 1, 1, 1, 1, 1, 1, 1, 1, 1],\n",
      "        [1, 1, 1, 1, 1, 1, 1, 1, 1, 1]])}\n",
      "{'input_ids': tensor([[  101,  1045,  2245,  2023,  2001,  1037,  6919,  2126,  2000,   102],\n",
      "        [  101, 10468,  2045,  1005,  1055,  1037,  2155,  2073,  1037,   102]]), 'attention_mask': tensor([[1, 1, 1, 1, 1, 1, 1, 1, 1, 1],\n",
      "        [1, 1, 1, 1, 1, 1, 1, 1, 1, 1]])}\n",
      "{'input_ids': tensor([[ 101, 9004, 3334, 4717, 7416, 1005, 1055, 1000, 2293,  102],\n",
      "        [ 101, 2763, 2026, 2035, 1011, 2051, 5440, 3185, 1010,  102]]), 'attention_mask': tensor([[1, 1, 1, 1, 1, 1, 1, 1, 1, 1],\n",
      "        [1, 1, 1, 1, 1, 1, 1, 1, 1, 1]])}\n",
      "{'input_ids': tensor([[  101,  1045,  2469,  2052,  2066,  2000,  2156,  1037, 15218,   102],\n",
      "        [  101,  2023,  2265,  2001,  2019,  6429,  1010,  4840,  1004,   102]]), 'attention_mask': tensor([[1, 1, 1, 1, 1, 1, 1, 1, 1, 1],\n",
      "        [1, 1, 1, 1, 1, 1, 1, 1, 1, 1]])}\n",
      "{'input_ids': tensor([[  101,  6628,  2011,  1996,  3893,  7928,  2055,  2023,  2143,   102],\n",
      "        [  101,  2065,  2017,  2066,  2434,  9535, 16255,  8450,  7239,   102]]), 'attention_mask': tensor([[1, 1, 1, 1, 1, 1, 1, 1, 1, 1],\n",
      "        [1, 1, 1, 1, 1, 1, 1, 1, 1, 1]])}\n",
      "{'input_ids': tensor([[  101,  6316,  1996,  7344,  2003,  2028,  1997,  2216, 21864,   102],\n",
      "        [  101,  1045,  2387,  2023,  3185,  2043,  1045,  2001,  2055,   102]]), 'attention_mask': tensor([[1, 1, 1, 1, 1, 1, 1, 1, 1, 1],\n",
      "        [1, 1, 1, 1, 1, 1, 1, 1, 1, 1]])}\n"
     ]
    }
   ],
   "source": [
    "for idx, batch in enumerate(dl):\n",
    "    print(batch)\n",
    "    \n",
    "    batch = {k: v.to('cuda') for k, v in batch.items()}\n",
    "    \n",
    "    with torch.no_grad():\n",
    "        out = model(input_ids=batch[\"input_ids\"], attention_mask=batch[\"attention_mask\"])\n",
    "    \n",
    "    if idx == 5:\n",
    "        break"
   ]
  },
  {
   "cell_type": "code",
   "execution_count": 13,
   "id": "6c4a9659",
   "metadata": {
    "execution": {
     "iopub.execute_input": "2024-09-12T12:14:29.153111Z",
     "iopub.status.busy": "2024-09-12T12:14:29.152549Z",
     "iopub.status.idle": "2024-09-12T12:14:29.160401Z",
     "shell.execute_reply": "2024-09-12T12:14:29.159551Z"
    },
    "papermill": {
     "duration": 0.017065,
     "end_time": "2024-09-12T12:14:29.162224",
     "exception": false,
     "start_time": "2024-09-12T12:14:29.145159",
     "status": "completed"
    },
    "tags": []
   },
   "outputs": [
    {
     "data": {
      "text/plain": [
       "{'input_ids': tensor([[  101,  6316,  1996,  7344,  2003,  2028,  1997,  2216, 21864,   102],\n",
       "         [  101,  1045,  2387,  2023,  3185,  2043,  1045,  2001,  2055,   102]],\n",
       "        device='cuda:0'),\n",
       " 'attention_mask': tensor([[1, 1, 1, 1, 1, 1, 1, 1, 1, 1],\n",
       "         [1, 1, 1, 1, 1, 1, 1, 1, 1, 1]], device='cuda:0')}"
      ]
     },
     "execution_count": 13,
     "metadata": {},
     "output_type": "execute_result"
    }
   ],
   "source": [
    "batch"
   ]
  },
  {
   "cell_type": "code",
   "execution_count": 14,
   "id": "a2703fe9",
   "metadata": {
    "execution": {
     "iopub.execute_input": "2024-09-12T12:14:29.175738Z",
     "iopub.status.busy": "2024-09-12T12:14:29.175400Z",
     "iopub.status.idle": "2024-09-12T12:14:29.183234Z",
     "shell.execute_reply": "2024-09-12T12:14:29.182398Z"
    },
    "papermill": {
     "duration": 0.01702,
     "end_time": "2024-09-12T12:14:29.185373",
     "exception": false,
     "start_time": "2024-09-12T12:14:29.168353",
     "status": "completed"
    },
    "tags": []
   },
   "outputs": [
    {
     "data": {
      "text/plain": [
       "BertForSequenceClassification(\n",
       "  (bert): BertModel(\n",
       "    (embeddings): BertEmbeddings(\n",
       "      (word_embeddings): Embedding(30522, 256, padding_idx=0)\n",
       "      (position_embeddings): Embedding(512, 256)\n",
       "      (token_type_embeddings): Embedding(2, 256)\n",
       "      (LayerNorm): LayerNorm((256,), eps=1e-12, elementwise_affine=True)\n",
       "      (dropout): Dropout(p=0.1, inplace=False)\n",
       "    )\n",
       "    (encoder): BertEncoder(\n",
       "      (layer): ModuleList(\n",
       "        (0-5): 6 x BertLayer(\n",
       "          (attention): BertAttention(\n",
       "            (self): BertSdpaSelfAttention(\n",
       "              (query): Linear(in_features=256, out_features=256, bias=True)\n",
       "              (key): Linear(in_features=256, out_features=256, bias=True)\n",
       "              (value): Linear(in_features=256, out_features=256, bias=True)\n",
       "              (dropout): Dropout(p=0.1, inplace=False)\n",
       "            )\n",
       "            (output): BertSelfOutput(\n",
       "              (dense): Linear(in_features=256, out_features=256, bias=True)\n",
       "              (LayerNorm): LayerNorm((256,), eps=1e-12, elementwise_affine=True)\n",
       "              (dropout): Dropout(p=0.1, inplace=False)\n",
       "            )\n",
       "          )\n",
       "          (intermediate): BertIntermediate(\n",
       "            (dense): Linear(in_features=256, out_features=1024, bias=True)\n",
       "            (intermediate_act_fn): GELUActivation()\n",
       "          )\n",
       "          (output): BertOutput(\n",
       "            (dense): Linear(in_features=1024, out_features=256, bias=True)\n",
       "            (LayerNorm): LayerNorm((256,), eps=1e-12, elementwise_affine=True)\n",
       "            (dropout): Dropout(p=0.1, inplace=False)\n",
       "          )\n",
       "        )\n",
       "      )\n",
       "    )\n",
       "    (pooler): BertPooler(\n",
       "      (dense): Linear(in_features=256, out_features=256, bias=True)\n",
       "      (activation): Tanh()\n",
       "    )\n",
       "  )\n",
       "  (dropout): Dropout(p=0.1, inplace=False)\n",
       "  (classifier): Linear(in_features=256, out_features=2, bias=True)\n",
       ")"
      ]
     },
     "execution_count": 14,
     "metadata": {},
     "output_type": "execute_result"
    }
   ],
   "source": [
    "model.eval()"
   ]
  },
  {
   "cell_type": "code",
   "execution_count": 15,
   "id": "7fadfcae",
   "metadata": {
    "execution": {
     "iopub.execute_input": "2024-09-12T12:14:29.199727Z",
     "iopub.status.busy": "2024-09-12T12:14:29.199402Z",
     "iopub.status.idle": "2024-09-12T12:14:29.404246Z",
     "shell.execute_reply": "2024-09-12T12:14:29.403289Z"
    },
    "papermill": {
     "duration": 0.214592,
     "end_time": "2024-09-12T12:14:29.406578",
     "exception": false,
     "start_time": "2024-09-12T12:14:29.191986",
     "status": "completed"
    },
    "tags": []
   },
   "outputs": [
    {
     "data": {
      "text/plain": [
       "SequenceClassifierOutput(loss=None, logits=tensor([[-1.2842,  1.3445],\n",
       "        [-1.4889,  1.5748]], device='cuda:0'), hidden_states=None, attentions=None)"
      ]
     },
     "execution_count": 15,
     "metadata": {},
     "output_type": "execute_result"
    }
   ],
   "source": [
    "out"
   ]
  },
  {
   "cell_type": "code",
   "execution_count": 16,
   "id": "ba1a70fa",
   "metadata": {
    "execution": {
     "iopub.execute_input": "2024-09-12T12:14:29.421324Z",
     "iopub.status.busy": "2024-09-12T12:14:29.421001Z",
     "iopub.status.idle": "2024-09-12T12:14:42.833505Z",
     "shell.execute_reply": "2024-09-12T12:14:42.832745Z"
    },
    "papermill": {
     "duration": 13.422216,
     "end_time": "2024-09-12T12:14:42.835614",
     "exception": false,
     "start_time": "2024-09-12T12:14:29.413398",
     "status": "completed"
    },
    "tags": []
   },
   "outputs": [
    {
     "name": "stderr",
     "output_type": "stream",
     "text": [
      "Hardware accelerator e.g. GPU is available in the environment, but no `device` argument is passed to the `Pipeline` object. Model will be on CPU.\n"
     ]
    }
   ],
   "source": [
    "pipe = transformers.pipeline(\n",
    "    task=\"text-classification\",\n",
    "    model=model_path,\n",
    "    batch_size=4\n",
    ")"
   ]
  },
  {
   "cell_type": "code",
   "execution_count": 17,
   "id": "cbb866e4",
   "metadata": {
    "execution": {
     "iopub.execute_input": "2024-09-12T12:14:42.850729Z",
     "iopub.status.busy": "2024-09-12T12:14:42.850097Z",
     "iopub.status.idle": "2024-09-12T12:14:42.969320Z",
     "shell.execute_reply": "2024-09-12T12:14:42.968411Z"
    },
    "papermill": {
     "duration": 0.129044,
     "end_time": "2024-09-12T12:14:42.971418",
     "exception": false,
     "start_time": "2024-09-12T12:14:42.842374",
     "status": "completed"
    },
    "tags": []
   },
   "outputs": [
    {
     "data": {
      "text/plain": [
       "[{'label': 'negative', 'score': 0.9627048969268799}]"
      ]
     },
     "execution_count": 17,
     "metadata": {},
     "output_type": "execute_result"
    }
   ],
   "source": [
    "test_case = [\"I hated how good the movie was.\"]\n",
    "result = pipe(test_case)\n",
    "\n",
    "# Assuming the label comes as something like \"LABEL_0\" or \"LABEL_1\"\n",
    "label_id = int(result[0][\"label\"].split(\"_\")[1])  # Extract the ID part after \"_\"\n",
    "result[0][\"label\"] = id2label[label_id]  # Map the ID to the label\n",
    "result"
   ]
  },
  {
   "cell_type": "code",
   "execution_count": null,
   "id": "3286d9cc",
   "metadata": {
    "papermill": {
     "duration": 0.006595,
     "end_time": "2024-09-12T12:14:42.984891",
     "exception": false,
     "start_time": "2024-09-12T12:14:42.978296",
     "status": "completed"
    },
    "tags": []
   },
   "outputs": [],
   "source": []
  }
 ],
 "metadata": {
  "kaggle": {
   "accelerator": "nvidiaTeslaT4",
   "dataSources": [
    {
     "datasetId": 134715,
     "sourceId": 320111,
     "sourceType": "datasetVersion"
    },
    {
     "sourceId": 196365015,
     "sourceType": "kernelVersion"
    }
   ],
   "dockerImageVersionId": 30762,
   "isGpuEnabled": true,
   "isInternetEnabled": true,
   "language": "python",
   "sourceType": "notebook"
  },
  "kernelspec": {
   "display_name": "Python 3",
   "language": "python",
   "name": "python3"
  },
  "language_info": {
   "codemirror_mode": {
    "name": "ipython",
    "version": 3
   },
   "file_extension": ".py",
   "mimetype": "text/x-python",
   "name": "python",
   "nbconvert_exporter": "python",
   "pygments_lexer": "ipython3",
   "version": "3.10.14"
  },
  "papermill": {
   "default_parameters": {},
   "duration": 31.731946,
   "end_time": "2024-09-12T12:14:46.532392",
   "environment_variables": {},
   "exception": null,
   "input_path": "__notebook__.ipynb",
   "output_path": "__notebook__.ipynb",
   "parameters": {},
   "start_time": "2024-09-12T12:14:14.800446",
   "version": "2.6.0"
  }
 },
 "nbformat": 4,
 "nbformat_minor": 5
}
